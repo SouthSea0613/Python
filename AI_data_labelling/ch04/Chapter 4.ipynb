{
 "cells": [
  {
   "cell_type": "markdown",
   "id": "daaf72d3",
   "metadata": {},
   "source": [
    "## 파일 읽기쓰기"
   ]
  },
  {
   "cell_type": "code",
   "execution_count": 16,
   "id": "d98ad618",
   "metadata": {},
   "outputs": [],
   "source": [
    "\n",
    "# 'write_example.txt' 파일을 쓰기 모드로 열기\n",
    "with open('write_example.txt', 'w') as file:\n",
    "    file.write(\"Hello, Python!\\n\")\n",
    "    file.write(\"This is an example of writing to a file.\\n\")\n",
    "\n",
    "# 파일을 쓰기 모드로 열 때, 'with' 구문을 사용하면 파일을 자동으로 닫아줍니다.\n"
   ]
  },
  {
   "cell_type": "code",
   "execution_count": 17,
   "id": "4538fe0c",
   "metadata": {},
   "outputs": [],
   "source": [
    "file = open('write_example2.txt', 'w')\n",
    "file.write(\"Hello, Python!\\n\")\n",
    "file.write(\"This is an example of writing to a file.\\n\")\n",
    "file.close()"
   ]
  },
  {
   "cell_type": "code",
   "execution_count": 18,
   "id": "0524abf8",
   "metadata": {},
   "outputs": [],
   "source": [
    "# 'write_example.txt' 파일을 쓰기 모드로 열기\n",
    "with open('write_example.txt', 'w') as file:\n",
    "    file.write(\"Hello, Python!\\n\")\n",
    "    file.write(\"This is an example of writing to a file.\\n\")\n",
    "\n",
    "# 파일을 쓰기 모드로 열 때, 'with' 구문을 사용하면 파일을 자동으로 닫아줍니다.\n"
   ]
  },
  {
   "cell_type": "code",
   "execution_count": 19,
   "id": "7db7bdd6",
   "metadata": {},
   "outputs": [
    {
     "name": "stdout",
     "output_type": "stream",
     "text": [
      "Hello, Python!\n",
      "This is an example of writing to a file.\n",
      "Adding a new line to the file.\n",
      "\n"
     ]
    }
   ],
   "source": [
    "# 'write_example.txt' 파일을 추가 모드로 열어 새로운 내용 추가\n",
    "with open('write_example.txt', 'a') as file:\n",
    "    file.write(\"Adding a new line to the file.\\n\")\n",
    "\n",
    "# 파일을 다시 읽어 수정된 내용 확인\n",
    "with open('write_example.txt', 'r') as file:\n",
    "    content = file.read()\n",
    "    print(content)\n"
   ]
  },
  {
   "cell_type": "code",
   "execution_count": 20,
   "id": "06f91178",
   "metadata": {},
   "outputs": [
    {
     "name": "stdout",
     "output_type": "stream",
     "text": [
      "Hello, Python!\n",
      "This is an example of writing to a file.\n",
      "Adding a new line to the file.\n"
     ]
    }
   ],
   "source": [
    "# 'write_example.txt' 파일을 읽기 모드로 열어 각 줄을 순회하며 출력\n",
    "with open('write_example.txt', 'r') as file:\n",
    "    for line in file:\n",
    "        print(line, end='')  # print 함수는 기본적으로 줄바꿈을 추가하기 때문에, 줄바꿈을 제거합니다.\n"
   ]
  },
  {
   "cell_type": "code",
   "execution_count": 21,
   "id": "edbb709f",
   "metadata": {},
   "outputs": [],
   "source": [
    "# 'write_example.txt' 파일을 읽기 모드로 열어 각 줄을 순회하며 출력\n",
    "with open('write_example.txt', 'r') as file:\n",
    "    lines = file.readlines()"
   ]
  },
  {
   "cell_type": "code",
   "execution_count": 22,
   "id": "21944a95",
   "metadata": {},
   "outputs": [
    {
     "data": {
      "text/plain": [
       "['Hello, Python!\\n',\n",
       " 'This is an example of writing to a file.\\n',\n",
       " 'Adding a new line to the file.\\n']"
      ]
     },
     "execution_count": 22,
     "metadata": {},
     "output_type": "execute_result"
    }
   ],
   "source": [
    "lines"
   ]
  },
  {
   "cell_type": "code",
   "execution_count": 23,
   "id": "c5f5a368",
   "metadata": {},
   "outputs": [
    {
     "name": "stdout",
     "output_type": "stream",
     "text": [
      "['Name', 'Age', 'City']\n",
      "['Alice', '24', 'New York']\n",
      "['Bob', '30', 'Los Angeles']\n"
     ]
    }
   ],
   "source": [
    "import csv\n",
    "\n",
    "# CSV 파일 쓰기\n",
    "with open('example.csv', 'w', newline='') as file:\n",
    "    writer = csv.writer(file)\n",
    "    writer.writerow([\"Name\", \"Age\", \"City\"])\n",
    "    writer.writerow([\"Alice\", \"24\", \"New York\"])\n",
    "    writer.writerow([\"Bob\", \"30\", \"Los Angeles\"])\n",
    "\n",
    "# CSV 파일 읽기\n",
    "with open('example.csv', 'r') as file:\n",
    "    reader = csv.reader(file)\n",
    "    for row in reader:\n",
    "        print(row)\n"
   ]
  },
  {
   "cell_type": "code",
   "execution_count": 24,
   "id": "a64ca427",
   "metadata": {
    "scrolled": true
   },
   "outputs": [
    {
     "name": "stdout",
     "output_type": "stream",
     "text": [
      "Name,Age,City\n",
      "Alice,24,New York\n",
      "Bob,30,Los Angeles\n",
      "\n"
     ]
    }
   ],
   "source": [
    "# CSV 파일 읽기\n",
    "with open('example.csv', 'r') as file:\n",
    "    content = file.read()\n",
    "    print(content)"
   ]
  },
  {
   "cell_type": "code",
   "execution_count": 25,
   "id": "e2986523",
   "metadata": {},
   "outputs": [
    {
     "name": "stdout",
     "output_type": "stream",
     "text": [
      "['Name', 'Age', 'City']\n",
      "['Alice', '24', 'New York']\n",
      "['Bob', '30', 'Los Angeles']\n"
     ]
    }
   ],
   "source": [
    "# CSV 파일 읽기\n",
    "with open('example.csv', 'r') as file:\n",
    "    content = [i.strip().split(\",\") for i in file.readlines()]\n",
    "    for i in content:\n",
    "        print(i)"
   ]
  },
  {
   "cell_type": "code",
   "execution_count": 26,
   "id": "22409832",
   "metadata": {},
   "outputs": [
    {
     "name": "stdout",
     "output_type": "stream",
     "text": [
      "{'name': 'Alice', 'age': 24, 'city': 'New York'}\n"
     ]
    }
   ],
   "source": [
    "import json\n",
    "\n",
    "# JSON 파일 쓰기\n",
    "data = {\n",
    "    \"name\": \"Alice\",\n",
    "    \"age\": 24,\n",
    "    \"city\": \"New York\"\n",
    "}\n",
    "\n",
    "with open('data.json', 'w') as file:\n",
    "    json.dump(data, file)\n",
    "\n",
    "# JSON 파일 읽기\n",
    "with open('data.json', 'r') as file:\n",
    "    data = json.load(file)\n",
    "    print(data)\n"
   ]
  },
  {
   "cell_type": "code",
   "execution_count": 27,
   "id": "2edeee32",
   "metadata": {},
   "outputs": [
    {
     "ename": "FileNotFoundError",
     "evalue": "[Errno 2] No such file or directory: 'non_existing_file.txt'",
     "output_type": "error",
     "traceback": [
      "\u001b[1;31m---------------------------------------------------------------------------\u001b[0m",
      "\u001b[1;31mFileNotFoundError\u001b[0m                         Traceback (most recent call last)",
      "Cell \u001b[1;32mIn[27], line 1\u001b[0m\n\u001b[1;32m----> 1\u001b[0m \u001b[38;5;28;01mwith\u001b[39;00m \u001b[38;5;28;43mopen\u001b[39;49m\u001b[43m(\u001b[49m\u001b[38;5;124;43m'\u001b[39;49m\u001b[38;5;124;43mnon_existing_file.txt\u001b[39;49m\u001b[38;5;124;43m'\u001b[39;49m\u001b[43m,\u001b[49m\u001b[43m \u001b[49m\u001b[38;5;124;43m'\u001b[39;49m\u001b[38;5;124;43mr\u001b[39;49m\u001b[38;5;124;43m'\u001b[39;49m\u001b[43m)\u001b[49m \u001b[38;5;28;01mas\u001b[39;00m file:\n\u001b[0;32m      2\u001b[0m     content \u001b[38;5;241m=\u001b[39m file\u001b[38;5;241m.\u001b[39mread()\n",
      "File \u001b[1;32m~\\AppData\\Local\\Programs\\Python\\Python311\\Lib\\site-packages\\IPython\\core\\interactiveshell.py:324\u001b[0m, in \u001b[0;36m_modified_open\u001b[1;34m(file, *args, **kwargs)\u001b[0m\n\u001b[0;32m    317\u001b[0m \u001b[38;5;28;01mif\u001b[39;00m file \u001b[38;5;129;01min\u001b[39;00m {\u001b[38;5;241m0\u001b[39m, \u001b[38;5;241m1\u001b[39m, \u001b[38;5;241m2\u001b[39m}:\n\u001b[0;32m    318\u001b[0m     \u001b[38;5;28;01mraise\u001b[39;00m \u001b[38;5;167;01mValueError\u001b[39;00m(\n\u001b[0;32m    319\u001b[0m         \u001b[38;5;124mf\u001b[39m\u001b[38;5;124m\"\u001b[39m\u001b[38;5;124mIPython won\u001b[39m\u001b[38;5;124m'\u001b[39m\u001b[38;5;124mt let you open fd=\u001b[39m\u001b[38;5;132;01m{\u001b[39;00mfile\u001b[38;5;132;01m}\u001b[39;00m\u001b[38;5;124m by default \u001b[39m\u001b[38;5;124m\"\u001b[39m\n\u001b[0;32m    320\u001b[0m         \u001b[38;5;124m\"\u001b[39m\u001b[38;5;124mas it is likely to crash IPython. If you know what you are doing, \u001b[39m\u001b[38;5;124m\"\u001b[39m\n\u001b[0;32m    321\u001b[0m         \u001b[38;5;124m\"\u001b[39m\u001b[38;5;124myou can use builtins\u001b[39m\u001b[38;5;124m'\u001b[39m\u001b[38;5;124m open.\u001b[39m\u001b[38;5;124m\"\u001b[39m\n\u001b[0;32m    322\u001b[0m     )\n\u001b[1;32m--> 324\u001b[0m \u001b[38;5;28;01mreturn\u001b[39;00m \u001b[43mio_open\u001b[49m\u001b[43m(\u001b[49m\u001b[43mfile\u001b[49m\u001b[43m,\u001b[49m\u001b[43m \u001b[49m\u001b[38;5;241;43m*\u001b[39;49m\u001b[43margs\u001b[49m\u001b[43m,\u001b[49m\u001b[43m \u001b[49m\u001b[38;5;241;43m*\u001b[39;49m\u001b[38;5;241;43m*\u001b[39;49m\u001b[43mkwargs\u001b[49m\u001b[43m)\u001b[49m\n",
      "\u001b[1;31mFileNotFoundError\u001b[0m: [Errno 2] No such file or directory: 'non_existing_file.txt'"
     ]
    }
   ],
   "source": [
    "with open('non_existing_file.txt', 'r') as file:\n",
    "    content = file.read()"
   ]
  },
  {
   "cell_type": "code",
   "execution_count": 28,
   "id": "7d878987",
   "metadata": {},
   "outputs": [
    {
     "name": "stdout",
     "output_type": "stream",
     "text": [
      "The file does not exist.\n"
     ]
    }
   ],
   "source": [
    "try:\n",
    "    with open('non_existing_file.txt', 'r') as file:\n",
    "        content = file.read()\n",
    "except FileNotFoundError:\n",
    "    print(\"The file does not exist.\")\n"
   ]
  },
  {
   "cell_type": "markdown",
   "id": "8a76313f",
   "metadata": {},
   "source": [
    "## 외부 라이브러리"
   ]
  },
  {
   "cell_type": "code",
   "execution_count": 29,
   "id": "4faede68",
   "metadata": {},
   "outputs": [
    {
     "name": "stdout",
     "output_type": "stream",
     "text": [
      "      Name  Age         City\n",
      "0    Alice   24     New York\n",
      "1      Bob   30  Los Angeles\n",
      "2  Charlie   18      Chicago\n",
      "\n",
      "People older than 20:\n",
      "    Name  Age         City\n",
      "0  Alice   24     New York\n",
      "1    Bob   30  Los Angeles\n"
     ]
    }
   ],
   "source": [
    "# pip install pandas\n",
    "\n",
    "import pandas as pd\n",
    "\n",
    "# 데이터프레임 생성\n",
    "data = {\n",
    "    'Name': ['Alice', 'Bob', 'Charlie'],\n",
    "    'Age': [24, 30, 18],\n",
    "    'City': ['New York', 'Los Angeles', 'Chicago']\n",
    "}\n",
    "\n",
    "df = pd.DataFrame(data)\n",
    "\n",
    "# 데이터프레임 출력\n",
    "print(df)\n",
    "\n",
    "# 데이터프레임에서 조건에 맞는 데이터 선택\n",
    "print(\"\\nPeople older than 20:\")\n",
    "print(df[df['Age'] > 20])\n"
   ]
  },
  {
   "cell_type": "code",
   "execution_count": 30,
   "id": "2ed2b46f",
   "metadata": {},
   "outputs": [
    {
     "data": {
      "text/html": [
       "<div>\n",
       "<style scoped>\n",
       "    .dataframe tbody tr th:only-of-type {\n",
       "        vertical-align: middle;\n",
       "    }\n",
       "\n",
       "    .dataframe tbody tr th {\n",
       "        vertical-align: top;\n",
       "    }\n",
       "\n",
       "    .dataframe thead th {\n",
       "        text-align: right;\n",
       "    }\n",
       "</style>\n",
       "<table border=\"1\" class=\"dataframe\">\n",
       "  <thead>\n",
       "    <tr style=\"text-align: right;\">\n",
       "      <th></th>\n",
       "      <th>Name</th>\n",
       "      <th>Age</th>\n",
       "      <th>City</th>\n",
       "    </tr>\n",
       "  </thead>\n",
       "  <tbody>\n",
       "    <tr>\n",
       "      <th>0</th>\n",
       "      <td>Alice</td>\n",
       "      <td>24</td>\n",
       "      <td>New York</td>\n",
       "    </tr>\n",
       "    <tr>\n",
       "      <th>1</th>\n",
       "      <td>Bob</td>\n",
       "      <td>30</td>\n",
       "      <td>Los Angeles</td>\n",
       "    </tr>\n",
       "    <tr>\n",
       "      <th>2</th>\n",
       "      <td>Charlie</td>\n",
       "      <td>18</td>\n",
       "      <td>Chicago</td>\n",
       "    </tr>\n",
       "  </tbody>\n",
       "</table>\n",
       "</div>"
      ],
      "text/plain": [
       "      Name  Age         City\n",
       "0    Alice   24     New York\n",
       "1      Bob   30  Los Angeles\n",
       "2  Charlie   18      Chicago"
      ]
     },
     "execution_count": 30,
     "metadata": {},
     "output_type": "execute_result"
    }
   ],
   "source": [
    "df"
   ]
  },
  {
   "cell_type": "code",
   "execution_count": 31,
   "id": "9c8e4139",
   "metadata": {},
   "outputs": [
    {
     "name": "stdout",
     "output_type": "stream",
     "text": [
      "{'current_user_url': 'https://api.github.com/user', 'current_user_authorizations_html_url': 'https://github.com/settings/connections/applications{/client_id}', 'authorizations_url': 'https://api.github.com/authorizations', 'code_search_url': 'https://api.github.com/search/code?q={query}{&page,per_page,sort,order}', 'commit_search_url': 'https://api.github.com/search/commits?q={query}{&page,per_page,sort,order}', 'emails_url': 'https://api.github.com/user/emails', 'emojis_url': 'https://api.github.com/emojis', 'events_url': 'https://api.github.com/events', 'feeds_url': 'https://api.github.com/feeds', 'followers_url': 'https://api.github.com/user/followers', 'following_url': 'https://api.github.com/user/following{/target}', 'gists_url': 'https://api.github.com/gists{/gist_id}', 'hub_url': 'https://api.github.com/hub', 'issue_search_url': 'https://api.github.com/search/issues?q={query}{&page,per_page,sort,order}', 'issues_url': 'https://api.github.com/issues', 'keys_url': 'https://api.github.com/user/keys', 'label_search_url': 'https://api.github.com/search/labels?q={query}&repository_id={repository_id}{&page,per_page}', 'notifications_url': 'https://api.github.com/notifications', 'organization_url': 'https://api.github.com/orgs/{org}', 'organization_repositories_url': 'https://api.github.com/orgs/{org}/repos{?type,page,per_page,sort}', 'organization_teams_url': 'https://api.github.com/orgs/{org}/teams', 'public_gists_url': 'https://api.github.com/gists/public', 'rate_limit_url': 'https://api.github.com/rate_limit', 'repository_url': 'https://api.github.com/repos/{owner}/{repo}', 'repository_search_url': 'https://api.github.com/search/repositories?q={query}{&page,per_page,sort,order}', 'current_user_repositories_url': 'https://api.github.com/user/repos{?type,page,per_page,sort}', 'starred_url': 'https://api.github.com/user/starred{/owner}{/repo}', 'starred_gists_url': 'https://api.github.com/gists/starred', 'topic_search_url': 'https://api.github.com/search/topics?q={query}{&page,per_page}', 'user_url': 'https://api.github.com/users/{user}', 'user_organizations_url': 'https://api.github.com/user/orgs', 'user_repositories_url': 'https://api.github.com/users/{user}/repos{?type,page,per_page,sort}', 'user_search_url': 'https://api.github.com/search/users?q={query}{&page,per_page,sort,order}'}\n"
     ]
    }
   ],
   "source": [
    "import requests\n",
    "\n",
    "# REST API로부터 데이터 가져오기\n",
    "response = requests.get('https://api.github.com')\n",
    "data = response.json()\n",
    "\n",
    "print(data)  # 받아온 JSON 데이터 출력\n"
   ]
  },
  {
   "cell_type": "code",
   "execution_count": 34,
   "id": "9c2d640c",
   "metadata": {},
   "outputs": [
    {
     "data": {
      "image/png": "[encoded data removed]",
      "text/plain": [
       "<Figure size 640x480 with 1 Axes>"
      ]
     },
     "metadata": {},
     "output_type": "display_data"
    }
   ],
   "source": [
    "import matplotlib.pyplot as plt\n",
    "\n",
    "# 데이터 준비\n",
    "x = [1, 2, 3, 4, 5]\n",
    "y = [2, 3, 5, 7, 11]\n",
    "\n",
    "# 선 그래프 그리기\n",
    "plt.plot(x, y)\n",
    "plt.title('Sample Plot')\n",
    "plt.xlabel('x')\n",
    "plt.ylabel('y')\n",
    "plt.show()\n"
   ]
  },
  {
   "cell_type": "markdown",
   "id": "be1a192f",
   "metadata": {},
   "source": [
    "## numpy"
   ]
  },
  {
   "cell_type": "code",
   "execution_count": 35,
   "id": "9c5dc668",
   "metadata": {},
   "outputs": [
    {
     "name": "stdout",
     "output_type": "stream",
     "text": [
      "1D Array:\n",
      "[1 2 3 4 5]\n",
      "\n",
      "2D Array:\n",
      "[[1 2 3]\n",
      " [4 5 6]]\n",
      "\n",
      "Array Shape: (2, 3)\n",
      "Array Dimensions: 2\n",
      "Array Data Type: int64\n"
     ]
    }
   ],
   "source": [
    "import numpy as np\n",
    "\n",
    "# 1차원 배열 생성\n",
    "arr_1d = np.array([1, 2, 3, 4, 5])\n",
    "print(\"1D Array:\")\n",
    "print(arr_1d)\n",
    "\n",
    "# 2차원 배열 생성\n",
    "arr_2d = np.array([[1, 2, 3], [4, 5, 6]])\n",
    "print(\"\\n2D Array:\")\n",
    "print(arr_2d)\n",
    "\n",
    "# 배열의 형태, 차원, 데이터 타입 확인\n",
    "print(\"\\nArray Shape:\", arr_2d.shape)\n",
    "print(\"Array Dimensions:\", arr_2d.ndim)\n",
    "print(\"Array Data Type:\", arr_2d.dtype)\n"
   ]
  },
  {
   "cell_type": "code",
   "execution_count": 36,
   "id": "4a0fe627",
   "metadata": {},
   "outputs": [
    {
     "name": "stdout",
     "output_type": "stream",
     "text": [
      "Addition: [5 7 9]\n",
      "Multiplication: [ 4 10 18]\n",
      "Scalar Multiplication: [2 4 6]\n"
     ]
    }
   ],
   "source": [
    "# 배열 연산\n",
    "a = np.array([1, 2, 3])\n",
    "b = np.array([4, 5, 6])\n",
    "\n",
    "# 배열 덧셈\n",
    "print(\"Addition:\", a + b)\n",
    "\n",
    "# 배열 곱셈\n",
    "print(\"Multiplication:\", a * b)\n",
    "\n",
    "# 스칼라와의 연산\n",
    "print(\"Scalar Multiplication:\", 2 * a)\n"
   ]
  },
  {
   "cell_type": "code",
   "execution_count": 37,
   "id": "054f2d09",
   "metadata": {},
   "outputs": [
    {
     "name": "stdout",
     "output_type": "stream",
     "text": [
      "First element of a: 1\n",
      "First two elements of b: [4 5]\n",
      "Elements greater than 2 in a: [3]\n"
     ]
    }
   ],
   "source": [
    "# 인덱싱\n",
    "print(\"First element of a:\", a[0])\n",
    "\n",
    "# 슬라이싱\n",
    "print(\"First two elements of b:\", b[:2])\n",
    "\n",
    "# 조건을 만족하는 요소 선택\n",
    "print(\"Elements greater than 2 in a:\", a[a > 2])\n"
   ]
  },
  {
   "cell_type": "code",
   "execution_count": 44,
   "id": "075ad00d-9b70-4a3f-b81e-32b62137d8be",
   "metadata": {},
   "outputs": [
    {
     "data": {
      "text/plain": [
       "array([False, False,  True])"
      ]
     },
     "execution_count": 44,
     "metadata": {},
     "output_type": "execute_result"
    }
   ],
   "source": [
    "a>2"
   ]
  },
  {
   "cell_type": "code",
   "execution_count": 38,
   "id": "b69cdcd0",
   "metadata": {},
   "outputs": [
    {
     "data": {
      "text/plain": [
       "array([3])"
      ]
     },
     "execution_count": 38,
     "metadata": {},
     "output_type": "execute_result"
    }
   ],
   "source": [
    "a[[False, False, True]]"
   ]
  },
  {
   "cell_type": "code",
   "execution_count": 39,
   "id": "e0d8e000",
   "metadata": {},
   "outputs": [
    {
     "name": "stdout",
     "output_type": "stream",
     "text": [
      "Original Array:\n",
      " [[1 2 3]\n",
      " [4 5 6]]\n",
      "\n",
      "Reshaped Array:\n",
      " [[1 2]\n",
      " [3 4]\n",
      " [5 6]]\n"
     ]
    }
   ],
   "source": [
    "# 원래 배열\n",
    "print(\"Original Array:\\n\", arr_2d)\n",
    "\n",
    "# 배열 형태 변경\n",
    "reshaped = arr_2d.reshape((3, 2))\n",
    "print(\"\\nReshaped Array:\\n\", reshaped)\n"
   ]
  },
  {
   "cell_type": "code",
   "execution_count": 40,
   "id": "e3ac91d3",
   "metadata": {},
   "outputs": [
    {
     "data": {
      "text/plain": [
       "array([[1, 2, 3, 4, 5, 6]])"
      ]
     },
     "execution_count": 40,
     "metadata": {},
     "output_type": "execute_result"
    }
   ],
   "source": [
    "reshaped = arr_2d.reshape((1, -1))\n",
    "reshaped"
   ]
  },
  {
   "cell_type": "code",
   "execution_count": 41,
   "id": "afaf7c75",
   "metadata": {},
   "outputs": [
    {
     "name": "stdout",
     "output_type": "stream",
     "text": [
      "Zeros:\n",
      " [[0. 0. 0.]\n",
      " [0. 0. 0.]]\n",
      "\n",
      "Ones:\n",
      " [[1. 1.]\n",
      " [1. 1.]\n",
      " [1. 1.]]\n",
      "\n",
      "Identity Matrix:\n",
      " [[1. 0. 0.]\n",
      " [0. 1. 0.]\n",
      " [0. 0. 1.]]\n",
      "\n",
      "Maximum of a: 3\n",
      "Sum of b: 15\n"
     ]
    }
   ],
   "source": [
    "# 배열 생성 함수\n",
    "zeros = np.zeros((2, 3))\n",
    "ones = np.ones((3, 2))\n",
    "identity_matrix = np.eye(3)\n",
    "\n",
    "print(\"Zeros:\\n\", zeros)\n",
    "print(\"\\nOnes:\\n\", ones)\n",
    "print(\"\\nIdentity Matrix:\\n\", identity_matrix)\n",
    "\n",
    "# 통계 함수\n",
    "print(\"\\nMaximum of a:\", np.max(a))\n",
    "print(\"Sum of b:\", np.sum(b))\n"
   ]
  },
  {
   "cell_type": "code",
   "execution_count": 42,
   "id": "c2e0bb48",
   "metadata": {},
   "outputs": [
    {
     "data": {
      "text/plain": [
       "array([1, 2, 3])"
      ]
     },
     "execution_count": 42,
     "metadata": {},
     "output_type": "execute_result"
    }
   ],
   "source": [
    "a"
   ]
  },
  {
   "cell_type": "code",
   "execution_count": 43,
   "id": "9af70924",
   "metadata": {},
   "outputs": [
    {
     "data": {
      "text/plain": [
       "array([4, 5, 6])"
      ]
     },
     "execution_count": 43,
     "metadata": {},
     "output_type": "execute_result"
    }
   ],
   "source": [
    "b"
   ]
  }
 ],
 "metadata": {
  "kernelspec": {
   "display_name": "Python 3 (ipykernel)",
   "language": "python",
   "name": "python3"
  },
  "language_info": {
   "codemirror_mode": {
    "name": "ipython",
    "version": 3
   },
   "file_extension": ".py",
   "mimetype": "text/x-python",
   "name": "python",
   "nbconvert_exporter": "python",
   "pygments_lexer": "ipython3",
   "version": "3.11.7"
  }
 },
 "nbformat": 4,
 "nbformat_minor": 5
}
