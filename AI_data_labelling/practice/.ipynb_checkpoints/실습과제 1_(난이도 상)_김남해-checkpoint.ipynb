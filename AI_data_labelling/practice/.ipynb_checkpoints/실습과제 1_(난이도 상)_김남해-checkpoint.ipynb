{
 "cells": [
  {
   "cell_type": "code",
   "execution_count": 8,
   "id": "7c17c755-8a87-4a74-abba-f97c1bfd8180",
   "metadata": {},
   "outputs": [
    {
     "name": "stdin",
     "output_type": "stream",
     "text": [
      "숫자 입력 : 123\n"
     ]
    },
    {
     "name": "stdout",
     "output_type": "stream",
     "text": [
      "2에서 9사이의 정수를 입력해주세요\n"
     ]
    },
    {
     "name": "stdin",
     "output_type": "stream",
     "text": [
      "숫자 입력 : qwe\n"
     ]
    },
    {
     "name": "stdout",
     "output_type": "stream",
     "text": [
      "2에서 9사이의 정수를 입력해주세요\n"
     ]
    },
    {
     "name": "stdin",
     "output_type": "stream",
     "text": [
      "숫자 입력 : 4\n"
     ]
    },
    {
     "name": "stdout",
     "output_type": "stream",
     "text": [
      "4 x 9 = 36\n",
      "4 x 8 = 32\n",
      "4 x 7 = 28\n",
      "4 x 6 = 24\n",
      "4 x 5 = 20\n",
      "4 x 4 = 16\n",
      "4 x 3 = 12\n",
      "4 x 2 = 8\n"
     ]
    }
   ],
   "source": [
    "while(True):\n",
    "    try:\n",
    "        user_input = int(input(\"숫자 입력 :\"))\n",
    "        # python이라서 가능한 비교연산자\n",
    "        if(2 <= user_input <= 9):\n",
    "            break\n",
    "        else:\n",
    "            print(\"2에서 9사이의 정수를 입력해주세요\")\n",
    "    except:\n",
    "        print(\"2에서 9사이의 정수를 입력해주세요\")\n",
    "    \n",
    "for i in range(9, 1, -1):\n",
    "    print(user_input, \"x\", i, \"=\", user_input * i)"
   ]
  },
  {
   "cell_type": "code",
   "execution_count": null,
   "id": "dfeec4b9-951a-4964-8ffa-7ab234f35cc2",
   "metadata": {},
   "outputs": [],
   "source": []
  }
 ],
 "metadata": {
  "kernelspec": {
   "display_name": "Python 3 (ipykernel)",
   "language": "python",
   "name": "python3"
  },
  "language_info": {
   "codemirror_mode": {
    "name": "ipython",
    "version": 3
   },
   "file_extension": ".py",
   "mimetype": "text/x-python",
   "name": "python",
   "nbconvert_exporter": "python",
   "pygments_lexer": "ipython3",
   "version": "3.11.7"
  }
 },
 "nbformat": 4,
 "nbformat_minor": 5
}
