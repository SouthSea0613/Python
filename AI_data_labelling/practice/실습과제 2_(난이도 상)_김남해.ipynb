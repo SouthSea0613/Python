{
 "cells": [
  {
   "cell_type": "code",
   "execution_count": 62,
   "id": "c809e83c-ab89-4284-a51c-d91ce91787c2",
   "metadata": {},
   "outputs": [
    {
     "name": "stdout",
     "output_type": "stream",
     "text": [
      "[1 5 3 9 7 8 4 6 2]\n",
      "평균 : 5.0\n",
      "최대 : 9\n",
      "최소 : 1\n",
      "표준편차 : 2.581988897471611\n",
      "분산 : 6.666666666666667\n"
     ]
    }
   ],
   "source": [
    "import csv\n",
    "import numpy as np\n",
    "\n",
    "# 테스트용 csv파일\n",
    "with open('simple.csv', 'w', newline='') as file:\n",
    "    writer = csv.writer(file)\n",
    "    writer.writerow([1, 5, 3, 9, 7, 8, 4, 6, 2])\n",
    "\n",
    "try:\n",
    "    with open('simple.csv', 'r') as file:\n",
    "        reader = csv.reader(file)\n",
    "        for row in reader:\n",
    "            # csv파일의 배열은 str형식이므로 정수로 매핑하고 numpy배열에 저장\n",
    "            arr_1d = np.array(list(map(int, row)))\n",
    "# 파일 없을경우 예외처리            \n",
    "except FileNotFoundError:\n",
    "    print(\"The file does not exist.\")\n",
    "\n",
    "print(arr_1d)\n",
    "print(\"평균 :\", np.mean(arr_1d))\n",
    "print(\"최대 :\", np.max(arr_1d))\n",
    "print(\"최소 :\", np.min(arr_1d))\n",
    "print(\"표준편차 :\", np.std(arr_1d))\n",
    "print(\"분산 :\", np.var(arr_1d))"
   ]
  },
  {
   "cell_type": "code",
   "execution_count": null,
   "id": "b6ece680-44fe-4618-b73b-82b69412fd61",
   "metadata": {},
   "outputs": [],
   "source": []
  }
 ],
 "metadata": {
  "kernelspec": {
   "display_name": "Python 3 (ipykernel)",
   "language": "python",
   "name": "python3"
  },
  "language_info": {
   "codemirror_mode": {
    "name": "ipython",
    "version": 3
   },
   "file_extension": ".py",
   "mimetype": "text/x-python",
   "name": "python",
   "nbconvert_exporter": "python",
   "pygments_lexer": "ipython3",
   "version": "3.11.7"
  }
 },
 "nbformat": 4,
 "nbformat_minor": 5
}
