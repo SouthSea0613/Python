{
 "cells": [
  {
   "cell_type": "code",
   "execution_count": 4,
   "id": "91ff29e3-1d47-4d88-a5b7-a510ae051e9a",
   "metadata": {},
   "outputs": [],
   "source": [
    "# 기본 함수 정의와 호출\n",
    "def introduce_yourself(name, age):\n",
    "    print(f\"Hello, my name is {name} and I am {age} years old.\")"
   ]
  },
  {
   "cell_type": "code",
   "execution_count": 5,
   "id": "d4c691cd-57a0-4a6d-8cf4-0b628e80f656",
   "metadata": {},
   "outputs": [
    {
     "name": "stdout",
     "output_type": "stream",
     "text": [
      "Hello, my name is Alice and I am 30 years old.\n"
     ]
    }
   ],
   "source": [
    "introduce_yourself(\"Alice\", 30)"
   ]
  },
  {
   "cell_type": "code",
   "execution_count": 6,
   "id": "f1455c6e-abb3-4bd7-b9c6-7308c7d6fa9d",
   "metadata": {},
   "outputs": [],
   "source": [
    "# 매개변수와 반환값이 있는 함수\n",
    "def calculate_area(radius):\n",
    "    pi = 3.14159\n",
    "    area = pi * (radius ** 2)\n",
    "    return area"
   ]
  },
  {
   "cell_type": "code",
   "execution_count": 7,
   "id": "68674870-598d-4443-838f-bfc08136b68e",
   "metadata": {},
   "outputs": [
    {
     "name": "stdout",
     "output_type": "stream",
     "text": [
      "78.53975\n"
     ]
    }
   ],
   "source": [
    "print(f\"{calculate_area(5)}\")"
   ]
  },
  {
   "cell_type": "code",
   "execution_count": 8,
   "id": "ad44ec6e-4da8-40a5-bf21-5148180ee4a7",
   "metadata": {},
   "outputs": [],
   "source": [
    "# 람다 함수의 사용\n",
    "multiply = lambda x, y: x * y"
   ]
  },
  {
   "cell_type": "code",
   "execution_count": 9,
   "id": "a4260b28-9d5f-4aeb-88d5-03199a321e70",
   "metadata": {},
   "outputs": [
    {
     "name": "stdout",
     "output_type": "stream",
     "text": [
      "3 multiplied by 5 is: 15\n"
     ]
    }
   ],
   "source": [
    "print(f\"3 multiplied by 5 is: {multiply(3, 5)}\")"
   ]
  },
  {
   "cell_type": "code",
   "execution_count": 10,
   "id": "bd891493-9ef9-4f4f-81fb-d93f3fd6c90d",
   "metadata": {},
   "outputs": [],
   "source": [
    "# map 함수 활용\n",
    "numbers = [1, 2, 3, 4, 5]\n",
    "squared_numbers = list(map(lambda x: x ** 2, numbers))"
   ]
  },
  {
   "cell_type": "code",
   "execution_count": 11,
   "id": "222f4f70-baff-4106-b492-f6aeed9e073e",
   "metadata": {},
   "outputs": [
    {
     "name": "stdout",
     "output_type": "stream",
     "text": [
      "Squared numbers: [1, 4, 9, 16, 25]\n"
     ]
    }
   ],
   "source": [
    "print(f\"Squared numbers: {squared_numbers}\")"
   ]
  },
  {
   "cell_type": "code",
   "execution_count": 12,
   "id": "0fdb1c6b-7525-4680-afa2-6398c86b0dfd",
   "metadata": {},
   "outputs": [],
   "source": [
    "# filter 함수 활용\n",
    "even_numbers = list(filter(lambda x: (x % 2 == 0), numbers))"
   ]
  },
  {
   "cell_type": "code",
   "execution_count": 13,
   "id": "572c43f6-06b3-446a-ab16-57b046cf9f58",
   "metadata": {},
   "outputs": [
    {
     "name": "stdout",
     "output_type": "stream",
     "text": [
      "Even numbers: [2, 4]\n"
     ]
    }
   ],
   "source": [
    "print(f\"Even numbers: {even_numbers}\")"
   ]
  },
  {
   "cell_type": "code",
   "execution_count": 14,
   "id": "8556cdf2-fb53-4740-8dec-2cf78b8569af",
   "metadata": {},
   "outputs": [],
   "source": [
    "# 함수의 기본값 및 키워드 인자\n",
    "def greet(name, message=\"Hello\"):\n",
    "    print(f\"{message}, {name}!\")"
   ]
  },
  {
   "cell_type": "code",
   "execution_count": 15,
   "id": "0c0c306c-c3c6-4b88-ae36-78ca0878f28e",
   "metadata": {},
   "outputs": [
    {
     "name": "stdout",
     "output_type": "stream",
     "text": [
      "Hello, Python!\n",
      "Hi, World!\n"
     ]
    }
   ],
   "source": [
    "greet(\"Python\")\n",
    "greet(\"World\", message=\"Hi\")"
   ]
  },
  {
   "cell_type": "code",
   "execution_count": 16,
   "id": "a2769f90-4208-4c4b-9c41-0cca08902664",
   "metadata": {},
   "outputs": [],
   "source": [
    "# 가변 인자 리스트\n",
    "def print_fruits(*fruits):\n",
    "    for fruit in fruits:\n",
    "        print(fruit)"
   ]
  },
  {
   "cell_type": "code",
   "execution_count": 17,
   "id": "50326a18-0439-409c-b6cb-3128088ccb65",
   "metadata": {},
   "outputs": [
    {
     "name": "stdout",
     "output_type": "stream",
     "text": [
      "Apple\n",
      "Banana\n",
      "Cherry\n"
     ]
    }
   ],
   "source": [
    "print_fruits(\"Apple\", \"Banana\", \"Cherry\")"
   ]
  },
  {
   "cell_type": "code",
   "execution_count": 18,
   "id": "9cafd3a5-2a42-4a56-adbb-f38f975723a0",
   "metadata": {},
   "outputs": [],
   "source": [
    "# 재귀 함수 예시 - 팩토리얼 계산\n",
    "def factorial(n):\n",
    "    print(n)\n",
    "    if n == 1:\n",
    "        return 1\n",
    "    else:\n",
    "        return n * factorial(n-1)"
   ]
  },
  {
   "cell_type": "code",
   "execution_count": 19,
   "id": "a38b9756-12cd-4b33-af96-0a8617b0a706",
   "metadata": {},
   "outputs": [
    {
     "name": "stdout",
     "output_type": "stream",
     "text": [
      "5\n",
      "4\n",
      "3\n",
      "2\n",
      "1\n",
      "Factorial of 5 is: 120\n"
     ]
    }
   ],
   "source": [
    "print(f\"Factorial of 5 is: {factorial(5)}\")"
   ]
  },
  {
   "cell_type": "code",
   "execution_count": null,
   "id": "39a41382-325e-4a19-afd2-0f2dfa90f956",
   "metadata": {},
   "outputs": [],
   "source": []
  }
 ],
 "metadata": {
  "kernelspec": {
   "display_name": "Python 3 (ipykernel)",
   "language": "python",
   "name": "python3"
  },
  "language_info": {
   "codemirror_mode": {
    "name": "ipython",
    "version": 3
   },
   "file_extension": ".py",
   "mimetype": "text/x-python",
   "name": "python",
   "nbconvert_exporter": "python",
   "pygments_lexer": "ipython3",
   "version": "3.11.7"
  }
 },
 "nbformat": 4,
 "nbformat_minor": 5
}
