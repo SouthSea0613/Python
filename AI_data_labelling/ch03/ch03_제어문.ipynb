{
 "cells": [
  {
   "cell_type": "code",
   "execution_count": 1,
   "id": "f0c0d497-ec8b-47ec-b2d6-d23795f4c1ca",
   "metadata": {},
   "outputs": [],
   "source": [
    "age = 3"
   ]
  },
  {
   "cell_type": "code",
   "execution_count": 2,
   "id": "7c0f18d5-c766-48d8-b41a-19ebad9e3170",
   "metadata": {},
   "outputs": [
    {
     "name": "stdout",
     "output_type": "stream",
     "text": [
      "Age Check:\n",
      "You are a minor.\n"
     ]
    }
   ],
   "source": [
    "print(\"Age Check:\")\n",
    "if age < 18:\n",
    "    print(\"You are a minor.\")\n",
    "elif age >= 18 and age < 60:\n",
    "    print(\"You are an adult.\")\n",
    "else:\n",
    "    print(\"You are a senior.\")"
   ]
  },
  {
   "cell_type": "code",
   "execution_count": 3,
   "id": "a8d99695-6592-4407-a8e6-b404f806b4f4",
   "metadata": {},
   "outputs": [],
   "source": [
    "age = 24"
   ]
  },
  {
   "cell_type": "code",
   "execution_count": 4,
   "id": "8ec8e1bb-e0af-427c-b6d5-b157dba0293c",
   "metadata": {},
   "outputs": [
    {
     "name": "stdout",
     "output_type": "stream",
     "text": [
      "Age Check:\n",
      "You are a senior.\n"
     ]
    }
   ],
   "source": [
    "print(\"Age Check:\")\n",
    "if age < 18:\n",
    "    print(\"You are a minor.\")\n",
    "else:\n",
    "    print(\"You are a senior.\")"
   ]
  },
  {
   "cell_type": "code",
   "execution_count": 6,
   "id": "12140a13-6255-4e1b-bc65-8250d8cd8f72",
   "metadata": {},
   "outputs": [
    {
     "name": "stdin",
     "output_type": "stream",
     "text": [
      "Enter your favorite programming language:  Python\n"
     ]
    }
   ],
   "source": [
    "# 사용자 입력과 조건문\n",
    "# input 문이 있는 코드 실행시 아래 전달값 입력 창에 값을 넣은 후 실행해주세요.\n",
    "user_input = input(\"Enter your favorite programming language: \")"
   ]
  },
  {
   "cell_type": "code",
   "execution_count": 7,
   "id": "9e903cd6-dee2-4d02-acda-db234c4d11f0",
   "metadata": {},
   "outputs": [
    {
     "name": "stdout",
     "output_type": "stream",
     "text": [
      "Great choice! Python is a powerful language.\n"
     ]
    }
   ],
   "source": [
    "languages = [\"Python\", \"Java\", \"C++\", \"JavaScript\"]\n",
    "if user_input in languages:\n",
    "    print(f\"Great choice! {user_input} is a powerful language.\")\n",
    "else:\n",
    "    print(\"That's an interesting choice. Learning any programming language is beneficial!\")"
   ]
  },
  {
   "cell_type": "code",
   "execution_count": 8,
   "id": "b9978bad-46df-4e46-b74d-24ce691b7949",
   "metadata": {},
   "outputs": [
    {
     "name": "stdout",
     "output_type": "stream",
     "text": [
      "Counting to 5:\n",
      "1\n",
      "2\n",
      "3\n",
      "4\n",
      "5\n"
     ]
    }
   ],
   "source": [
    "# 반복문 - range() 함수 활용\n",
    "print(\"Counting to 5:\")\n",
    "for i in range(1,6):  # 1부터 5까지\n",
    "    print(i)"
   ]
  },
  {
   "cell_type": "code",
   "execution_count": 9,
   "id": "0b437e81-7292-4636-81df-1cd86df818e0",
   "metadata": {},
   "outputs": [
    {
     "name": "stdout",
     "output_type": "stream",
     "text": [
      "Even Numbers between 1 and 10:\n",
      "1 is odd.\n",
      "2 is even.\n",
      "3 is odd.\n",
      "4 is even.\n",
      "5 is odd.\n",
      "6 is even.\n",
      "7 is odd.\n",
      "8 is even.\n",
      "9 is odd.\n",
      "10 is even.\n"
     ]
    }
   ],
   "source": [
    "# 반복문과 조건문의 결합 - 짝수만 출력\n",
    "print(\"Even Numbers between 1 and 10:\")\n",
    "for i in range(1, 11):  # 1부터 10까지\n",
    "    if i % 2 == 0:\n",
    "        print(i, \"is even.\")\n",
    "    else:\n",
    "        print(i, \"is odd.\")"
   ]
  },
  {
   "cell_type": "code",
   "execution_count": 10,
   "id": "7766f99f-edf9-431b-9289-d338a3ff82d3",
   "metadata": {},
   "outputs": [
    {
     "name": "stdout",
     "output_type": "stream",
     "text": [
      "Multiplication Table (1-5):\n",
      "1 * 1 = 1\n",
      "1 * 2 = 2\n",
      "1 * 3 = 3\n",
      "1 * 4 = 4\n",
      "1 * 5 = 5\n",
      "1 * 6 = 6\n",
      "1 * 7 = 7\n",
      "1 * 8 = 8\n",
      "1 * 9 = 9\n",
      "1 * 10 = 10\n",
      "--------------------\n",
      "2 * 1 = 2\n",
      "2 * 2 = 4\n",
      "2 * 3 = 6\n",
      "2 * 4 = 8\n",
      "2 * 5 = 10\n",
      "2 * 6 = 12\n",
      "2 * 7 = 14\n",
      "2 * 8 = 16\n",
      "2 * 9 = 18\n",
      "2 * 10 = 20\n",
      "--------------------\n",
      "3 * 1 = 3\n",
      "3 * 2 = 6\n",
      "3 * 3 = 9\n",
      "3 * 4 = 12\n",
      "3 * 5 = 15\n",
      "3 * 6 = 18\n",
      "3 * 7 = 21\n",
      "3 * 8 = 24\n",
      "3 * 9 = 27\n",
      "3 * 10 = 30\n",
      "--------------------\n",
      "4 * 1 = 4\n",
      "4 * 2 = 8\n",
      "4 * 3 = 12\n",
      "4 * 4 = 16\n",
      "4 * 5 = 20\n",
      "4 * 6 = 24\n",
      "4 * 7 = 28\n",
      "4 * 8 = 32\n",
      "4 * 9 = 36\n",
      "4 * 10 = 40\n",
      "--------------------\n",
      "5 * 1 = 5\n",
      "5 * 2 = 10\n",
      "5 * 3 = 15\n",
      "5 * 4 = 20\n",
      "5 * 5 = 25\n",
      "5 * 6 = 30\n",
      "5 * 7 = 35\n",
      "5 * 8 = 40\n",
      "5 * 9 = 45\n",
      "5 * 10 = 50\n",
      "--------------------\n"
     ]
    }
   ],
   "source": [
    "# 중첩 반복문 - 구구단 출력\n",
    "print(\"Multiplication Table (1-5):\")\n",
    "for i in range(1, 6):  # 1단부터 5단까지\n",
    "    for j in range(1, 11):  # 1부터 10까지 곱하기\n",
    "        print(f\"{i} * {j} = {i*j}\")\n",
    "    print(\"-\" * 20)  # 구분선 출력"
   ]
  },
  {
   "cell_type": "code",
   "execution_count": null,
   "id": "a514dcb1-3e0d-47fc-b39d-8058675b971a",
   "metadata": {},
   "outputs": [],
   "source": []
  }
 ],
 "metadata": {
  "kernelspec": {
   "display_name": "Python 3 (ipykernel)",
   "language": "python",
   "name": "python3"
  },
  "language_info": {
   "codemirror_mode": {
    "name": "ipython",
    "version": 3
   },
   "file_extension": ".py",
   "mimetype": "text/x-python",
   "name": "python",
   "nbconvert_exporter": "python",
   "pygments_lexer": "ipython3",
   "version": "3.11.7"
  }
 },
 "nbformat": 4,
 "nbformat_minor": 5
}
