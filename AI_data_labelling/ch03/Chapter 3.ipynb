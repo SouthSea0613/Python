{
 "cells": [
  {
   "cell_type": "markdown",
   "id": "ebc954df",
   "metadata": {},
   "source": [
    "## 변수"
   ]
  },
  {
   "cell_type": "code",
   "execution_count": null,
   "id": "2a55e349",
   "metadata": {},
   "outputs": [],
   "source": [
    "# 변수 선언 및 기본 자료형\n",
    "name = \"Python Learner\" # str\n",
    "age = 25 # int\n",
    "height = 175.5 # float\n",
    "is_programmer = True # bool\n",
    "languages_known = 3 # int"
   ]
  },
  {
   "cell_type": "code",
   "execution_count": null,
   "id": "f15b169b",
   "metadata": {
    "scrolled": true
   },
   "outputs": [],
   "source": [
    "# 출력\n",
    "print(f\"Name: {name}\")\n",
    "print(f\"Age: {age}\")\n",
    "print(f\"Height: {height}cm\")\n",
    "print(f\"Is a programmer: {is_programmer}\")\n",
    "print(f\"Languages known: {languages_known}\")"
   ]
  },
  {
   "cell_type": "code",
   "execution_count": null,
   "id": "38b40e22",
   "metadata": {},
   "outputs": [],
   "source": [
    "print(\"Name:\",name)"
   ]
  },
  {
   "cell_type": "code",
   "execution_count": null,
   "id": "362fd727",
   "metadata": {
    "scrolled": true
   },
   "outputs": [],
   "source": [
    "# 리스트\n",
    "favorite_languages = [\"Python\", \"JavaScript\", \"C++\", \"Java\"]\n",
    "print(\"\\nFavorite Languages:\\n\")\n",
    "for language in favorite_languages:\n",
    "    print(f\"- {language}\")\n",
    "    \n",
    "print(favorite_languages)"
   ]
  },
  {
   "cell_type": "code",
   "execution_count": null,
   "id": "1fd95e8f",
   "metadata": {},
   "outputs": [],
   "source": [
    "favorite_languages"
   ]
  },
  {
   "cell_type": "code",
   "execution_count": null,
   "id": "50f8db1a",
   "metadata": {},
   "outputs": [],
   "source": [
    "# 튜플 추가\n",
    "favorite_numbers = (7, 42, 56)\n",
    "print(\"\\nFavorite Numbers:\", favorite_numbers)"
   ]
  },
  {
   "cell_type": "code",
   "execution_count": null,
   "id": "b73a79ee",
   "metadata": {},
   "outputs": [],
   "source": [
    "len(favorite_numbers)"
   ]
  },
  {
   "cell_type": "code",
   "execution_count": null,
   "id": "ae60082d",
   "metadata": {},
   "outputs": [],
   "source": [
    "# 딕셔너리\n",
    "personal_info = {\n",
    "    \"name\": \"Python Learner\",\n",
    "    \"age\": 25,\n",
    "    \"height\": 175.5,\n",
    "    \"is_programmer\": True,\n",
    "    \"languages\": favorite_languages,\n",
    "    \"numbers\": favorite_numbers\n",
    "}"
   ]
  },
  {
   "cell_type": "code",
   "execution_count": null,
   "id": "6e7c987a",
   "metadata": {},
   "outputs": [],
   "source": [
    "personal_info"
   ]
  },
  {
   "cell_type": "code",
   "execution_count": null,
   "id": "d2dc9c91",
   "metadata": {},
   "outputs": [],
   "source": [
    "print(f\"Name: {personal_info['name']}\")"
   ]
  },
  {
   "cell_type": "code",
   "execution_count": null,
   "id": "b2db2701",
   "metadata": {},
   "outputs": [],
   "source": [
    "personal_info['name']"
   ]
  },
  {
   "cell_type": "code",
   "execution_count": null,
   "id": "b6a5fb1c",
   "metadata": {},
   "outputs": [],
   "source": [
    "# 딕셔너리 내용 출력\n",
    "print(\"\\nPersonal Info:\")\n",
    "print(f\"Name: {personal_info['name']}\")\n",
    "print(f\"Age: {personal_info['age']} years\")\n",
    "print(f\"Height: {personal_info['height']} cm\")\n",
    "print(f\"Is a Programmer: {'Yes' if personal_info['is_programmer'] else 'No'}\")\n",
    "print(f\"Languages Known: {', '.join(personal_info['languages'])}\")\n",
    "print(f\"Favorite Numbers: {personal_info['numbers']}\")"
   ]
  },
  {
   "cell_type": "code",
   "execution_count": null,
   "id": "0c24daa4",
   "metadata": {},
   "outputs": [],
   "source": [
    "personal_info.keys()"
   ]
  },
  {
   "cell_type": "code",
   "execution_count": null,
   "id": "c991e4aa",
   "metadata": {},
   "outputs": [],
   "source": [
    "personal_info.values()"
   ]
  },
  {
   "cell_type": "code",
   "execution_count": null,
   "id": "741c0a83",
   "metadata": {},
   "outputs": [],
   "source": [
    "personal_info.items()"
   ]
  },
  {
   "cell_type": "markdown",
   "id": "eea3be0c",
   "metadata": {},
   "source": [
    "## 제어문"
   ]
  },
  {
   "cell_type": "code",
   "execution_count": null,
   "id": "191f60df",
   "metadata": {},
   "outputs": [],
   "source": [
    "# 조건문 실습\n",
    "age = 3\n",
    "\n",
    "print(\"Age Check:\")\n",
    "if age < 18:\n",
    "    print(\"You are a minor.\")\n",
    "elif age >= 18 and age < 60:\n",
    "    print(\"You are an adult.\")\n",
    "else:\n",
    "    print(\"You are a senior.\")"
   ]
  },
  {
   "cell_type": "code",
   "execution_count": null,
   "id": "3e9557db",
   "metadata": {},
   "outputs": [],
   "source": [
    "# 조건문 실습\n",
    "age = 24\n",
    "\n",
    "print(\"Age Check:\")\n",
    "if age < 18:\n",
    "    print(\"You are a minor.\")\n",
    "else:\n",
    "    print(\"You are a senior.\")"
   ]
  },
  {
   "cell_type": "code",
   "execution_count": null,
   "id": "80d6437a",
   "metadata": {},
   "outputs": [],
   "source": [
    "# 사용자 입력과 조건문\n",
    "user_input = input(\"\\nEnter your favorite programming language: \")\n",
    "\n",
    "languages = [\"Python\", \"Java\", \"C++\", \"JavaScript\"]\n",
    "if user_input in languages:\n",
    "    print(f\"Great choice! {user_input} is a powerful language.\")\n",
    "else:\n",
    "    print(\"That's an interesting choice. Learning any programming language is beneficial!\")"
   ]
  },
  {
   "cell_type": "code",
   "execution_count": null,
   "id": "d8af4e23",
   "metadata": {},
   "outputs": [],
   "source": [
    "# 반복문 - range() 함수 활용\n",
    "print(\"\\nCounting to 5:\")\n",
    "for i in range(1,6):  # 1부터 5까지\n",
    "    print(i)"
   ]
  },
  {
   "cell_type": "code",
   "execution_count": null,
   "id": "fd3b050d",
   "metadata": {},
   "outputs": [],
   "source": [
    "# 반복문과 조건문의 결합 - 짝수만 출력\n",
    "print(\"\\nEven Numbers between 1 and 10:\")\n",
    "for i in range(1, 11):  # 1부터 10까지\n",
    "    if i % 2 == 0:\n",
    "        print(i, \"is even.\")\n",
    "    else:\n",
    "        print(i, \"is odd.\")"
   ]
  },
  {
   "cell_type": "code",
   "execution_count": null,
   "id": "8f3021fe",
   "metadata": {},
   "outputs": [],
   "source": [
    "# 중첩 반복문 - 구구단 출력\n",
    "print(\"\\nMultiplication Table (1-5):\")\n",
    "for i in range(1, 6):  # 1단부터 5단까지\n",
    "    for j in range(1, 11):  # 1부터 10까지 곱하기\n",
    "        print(f\"{i} * {j} = {i*j}\")\n",
    "    print(\"-\" * 20)  # 구분선 출력"
   ]
  },
  {
   "cell_type": "markdown",
   "id": "3ae39bf8",
   "metadata": {},
   "source": [
    "## 함수"
   ]
  },
  {
   "cell_type": "code",
   "execution_count": null,
   "id": "48cae2c9",
   "metadata": {},
   "outputs": [],
   "source": [
    "# 기본 함수 정의와 호출\n",
    "def introduce_yourself(name, age):\n",
    "    print(f\"Hello, my name is {name} and I am {age} years old.\")\n",
    "\n",
    "introduce_yourself(\"Alice\", 30)"
   ]
  },
  {
   "cell_type": "code",
   "execution_count": null,
   "id": "a7a91d48",
   "metadata": {},
   "outputs": [],
   "source": [
    "# 매개변수와 반환값이 있는 함수\n",
    "def calculate_area(radius):\n",
    "    pi = 3.14159\n",
    "    area = pi * (radius ** 2)\n",
    "    return area\n",
    "\n",
    "circle_area = calculate_area(5)\n",
    "print(f\"The area of the circle is: {circle_area}\")"
   ]
  },
  {
   "cell_type": "code",
   "execution_count": null,
   "id": "68e57d44",
   "metadata": {},
   "outputs": [],
   "source": [
    "# 람다 함수의 사용\n",
    "multiply = lambda x, y: x * y\n",
    "print(f\"3 multiplied by 5 is: {multiply(3, 5)}\")"
   ]
  },
  {
   "cell_type": "code",
   "execution_count": null,
   "id": "7b4c5f5c",
   "metadata": {},
   "outputs": [],
   "source": [
    "# map 함수 활용\n",
    "numbers = [1, 2, 3, 4, 5]\n",
    "squared_numbers = list(map(lambda x: x ** 2, numbers))\n",
    "print(f\"Squared numbers: {squared_numbers}\")"
   ]
  },
  {
   "cell_type": "code",
   "execution_count": null,
   "id": "8ebd4400",
   "metadata": {},
   "outputs": [],
   "source": [
    "# filter 함수 활용\n",
    "even_numbers = list(filter(lambda x: (x % 2 == 0), numbers))\n",
    "print(f\"Even numbers: {even_numbers}\")"
   ]
  },
  {
   "cell_type": "code",
   "execution_count": null,
   "id": "a24f7245",
   "metadata": {},
   "outputs": [],
   "source": [
    "# 함수의 기본값 및 키워드 인자\n",
    "def greet(name, message=\"Hello\"):\n",
    "    print(f\"{message}, {name}!\")\n",
    "\n",
    "greet(\"Python\")\n",
    "greet(\"World\", message=\"Hi\")\n",
    "\n",
    "# 가변 인자 리스트\n",
    "def print_fruits(*fruits):\n",
    "    for fruit in fruits:\n",
    "        print(fruit)\n",
    "\n",
    "print_fruits(\"Apple\", \"Banana\", \"Cherry\")"
   ]
  },
  {
   "cell_type": "code",
   "execution_count": null,
   "id": "a0753741",
   "metadata": {},
   "outputs": [],
   "source": [
    "# 재귀 함수 예시 - 팩토리얼 계산\n",
    "def factorial(n):\n",
    "    print(n)\n",
    "    if n == 1:\n",
    "        return 1\n",
    "    else:\n",
    "        return n * factorial(n-1)\n",
    "\n",
    "print(f\"Factorial of 5 is: {factorial(5)}\")\n"
   ]
  },
  {
   "cell_type": "code",
   "execution_count": null,
   "id": "4c7d4aa8",
   "metadata": {},
   "outputs": [],
   "source": []
  }
 ],
 "metadata": {
  "kernelspec": {
   "display_name": "Python 3 (ipykernel)",
   "language": "python",
   "name": "python3"
  },
  "language_info": {
   "codemirror_mode": {
    "name": "ipython",
    "version": 3
   },
   "file_extension": ".py",
   "mimetype": "text/x-python",
   "name": "python",
   "nbconvert_exporter": "python",
   "pygments_lexer": "ipython3",
   "version": "3.11.7"
  }
 },
 "nbformat": 4,
 "nbformat_minor": 5
}
