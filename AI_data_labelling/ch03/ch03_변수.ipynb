{
 "cells": [
  {
   "cell_type": "code",
   "execution_count": 2,
   "id": "9e1269ca-2a1c-4742-b9d5-bc3d4896b70f",
   "metadata": {},
   "outputs": [],
   "source": [
    "%config Completer.use_jedi = False"
   ]
  },
  {
   "cell_type": "code",
   "execution_count": 3,
   "id": "b2caca86-c518-4cf0-ab1d-1582007665c7",
   "metadata": {},
   "outputs": [],
   "source": [
    "name = \"김남해\""
   ]
  },
  {
   "cell_type": "code",
   "execution_count": 4,
   "id": "07a578c5-16ed-4078-b4cc-d3f540717d9c",
   "metadata": {},
   "outputs": [
    {
     "data": {
      "text/plain": [
       "'김남해'"
      ]
     },
     "execution_count": 4,
     "metadata": {},
     "output_type": "execute_result"
    }
   ],
   "source": [
    "name"
   ]
  },
  {
   "cell_type": "code",
   "execution_count": 8,
   "id": "55acd2ea-d1af-4470-81de-6dc68df8a9c2",
   "metadata": {},
   "outputs": [],
   "source": [
    "name = \"Python Learner\" # str\n",
    "age = 25 # int\n",
    "height = 175.5 # float\n",
    "is_programmer = True # bool\n",
    "languages_known = 3 # int"
   ]
  },
  {
   "cell_type": "code",
   "execution_count": 9,
   "id": "919738ca-87cf-49b0-83f6-b8a2d2376080",
   "metadata": {},
   "outputs": [
    {
     "name": "stdout",
     "output_type": "stream",
     "text": [
      "Name: Python Learner\n",
      "Age: 25\n",
      "Height: 175.5cm\n",
      "Is a programmer: True\n",
      "Languages known: 3\n"
     ]
    }
   ],
   "source": [
    "print(f\"Name: {name}\")\n",
    "print(f\"Age: {age}\")\n",
    "print(f\"Height: {height}cm\")\n",
    "print(f\"Is a programmer: {is_programmer}\")\n",
    "print(f\"Languages known: {languages_known}\")"
   ]
  },
  {
   "cell_type": "code",
   "execution_count": 20,
   "id": "64bd06da-6e05-4b6c-a7ef-21ed03ff8385",
   "metadata": {},
   "outputs": [
    {
     "name": "stdout",
     "output_type": "stream",
     "text": [
      "Name : Python Learner\n"
     ]
    }
   ],
   "source": [
    "print(\"Name :\",name)"
   ]
  },
  {
   "cell_type": "code",
   "execution_count": 11,
   "id": "35c0c5bc-0b4a-4c9c-8404-195f5a97458f",
   "metadata": {},
   "outputs": [],
   "source": [
    "favorite_languages = [\"Python\", \"JavaScript\", \"C++\", \"Java\"]"
   ]
  },
  {
   "cell_type": "code",
   "execution_count": 12,
   "id": "bf248b78-9936-4b67-828d-05e58f010159",
   "metadata": {},
   "outputs": [
    {
     "name": "stdout",
     "output_type": "stream",
     "text": [
      "Favorite Languages:\n",
      "- Python\n",
      "- JavaScript\n",
      "- C++\n",
      "- Java\n"
     ]
    }
   ],
   "source": [
    "print(\"Favorite Languages:\")\n",
    "for language in favorite_languages:\n",
    "    print(f\"- {language}\")"
   ]
  },
  {
   "cell_type": "code",
   "execution_count": 13,
   "id": "909df41a-cc48-4053-85a9-653338ce0543",
   "metadata": {},
   "outputs": [
    {
     "name": "stdout",
     "output_type": "stream",
     "text": [
      "['Python', 'JavaScript', 'C++', 'Java']\n"
     ]
    }
   ],
   "source": [
    "print(favorite_languages)"
   ]
  },
  {
   "cell_type": "code",
   "execution_count": 14,
   "id": "daf460f5-6358-4eee-82c1-9718cbcd1845",
   "metadata": {},
   "outputs": [],
   "source": [
    "favorite_numbers = (7, 42, 56)"
   ]
  },
  {
   "cell_type": "code",
   "execution_count": 15,
   "id": "e58a8367-2152-45ec-8748-d64a18460a25",
   "metadata": {},
   "outputs": [
    {
     "name": "stdout",
     "output_type": "stream",
     "text": [
      "Favorite Numbers: (7, 42, 56)\n",
      "3\n"
     ]
    }
   ],
   "source": [
    "print(\"Favorite Numbers:\", favorite_numbers)\n",
    "print(len(favorite_numbers))"
   ]
  },
  {
   "cell_type": "code",
   "execution_count": 16,
   "id": "c67d1dfe-b598-4127-a576-94abc766d771",
   "metadata": {},
   "outputs": [],
   "source": [
    "personal_info = {\n",
    "    \"name\": \"Python Learner\",\n",
    "    \"age\": 25,\n",
    "    \"height\": 175.5,\n",
    "    \"is_programmer\": True,\n",
    "    \"languages\": favorite_languages,\n",
    "    \"numbers\": favorite_numbers\n",
    "}"
   ]
  },
  {
   "cell_type": "code",
   "execution_count": 17,
   "id": "6f5a97c4-f5a3-45ae-994b-e9b6988b070e",
   "metadata": {},
   "outputs": [
    {
     "name": "stdout",
     "output_type": "stream",
     "text": [
      "{'name': 'Python Learner', 'age': 25, 'height': 175.5, 'is_programmer': True, 'languages': ['Python', 'JavaScript', 'C++', 'Java'], 'numbers': (7, 42, 56)}\n",
      "Name: Python Learner\n"
     ]
    }
   ],
   "source": [
    "print(personal_info)\n",
    "print(f\"Name: {personal_info['name']}\")"
   ]
  },
  {
   "cell_type": "code",
   "execution_count": 18,
   "id": "5b40d885-36b4-4030-a566-d16487c6e749",
   "metadata": {},
   "outputs": [
    {
     "name": "stdout",
     "output_type": "stream",
     "text": [
      "Personal Info:\n",
      "Name: Python Learner\n",
      "Age: 25 years\n",
      "Height: 175.5 cm\n",
      "Is a Programmer: Yes\n",
      "Languages Known: Python, JavaScript, C++, Java\n",
      "Favorite Numbers: (7, 42, 56)\n"
     ]
    }
   ],
   "source": [
    "print(\"Personal Info:\")\n",
    "print(f\"Name: {personal_info['name']}\")\n",
    "print(f\"Age: {personal_info['age']} years\")\n",
    "print(f\"Height: {personal_info['height']} cm\")\n",
    "print(f\"Is a Programmer: {'Yes' if personal_info['is_programmer'] else 'No'}\")\n",
    "print(f\"Languages Known: {', '.join(personal_info['languages'])}\")\n",
    "print(f\"Favorite Numbers: {personal_info['numbers']}\")"
   ]
  },
  {
   "cell_type": "code",
   "execution_count": 19,
   "id": "9b77a9d2-6bb7-4d35-9764-83f8df87fec7",
   "metadata": {},
   "outputs": [
    {
     "name": "stdout",
     "output_type": "stream",
     "text": [
      "dict_keys(['name', 'age', 'height', 'is_programmer', 'languages', 'numbers'])\n",
      "dict_values(['Python Learner', 25, 175.5, True, ['Python', 'JavaScript', 'C++', 'Java'], (7, 42, 56)])\n",
      "dict_items([('name', 'Python Learner'), ('age', 25), ('height', 175.5), ('is_programmer', True), ('languages', ['Python', 'JavaScript', 'C++', 'Java']), ('numbers', (7, 42, 56))])\n"
     ]
    }
   ],
   "source": [
    "print(personal_info.keys())\n",
    "print(personal_info.values())\n",
    "print(personal_info.items())"
   ]
  },
  {
   "cell_type": "code",
   "execution_count": null,
   "id": "433c4899-3759-4bc1-8426-811c607033b7",
   "metadata": {},
   "outputs": [],
   "source": []
  }
 ],
 "metadata": {
  "kernelspec": {
   "display_name": "Python 3 (ipykernel)",
   "language": "python",
   "name": "python3"
  },
  "language_info": {
   "codemirror_mode": {
    "name": "ipython",
    "version": 3
   },
   "file_extension": ".py",
   "mimetype": "text/x-python",
   "name": "python",
   "nbconvert_exporter": "python",
   "pygments_lexer": "ipython3",
   "version": "3.11.7"
  }
 },
 "nbformat": 4,
 "nbformat_minor": 5
}
